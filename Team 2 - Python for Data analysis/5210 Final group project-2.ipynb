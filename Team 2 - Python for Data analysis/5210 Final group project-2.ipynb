{
 "cells": [
  {
   "cell_type": "code",
   "execution_count": 1,
   "id": "feff949f",
   "metadata": {},
   "outputs": [],
   "source": [
    "\n",
    "############### Cleaned the dataset ##############\n",
    "#suffix 1 for the leftdatset, suffix 2 for the right dataset\n"
   ]
  },
  {
   "cell_type": "code",
   "execution_count": 3,
   "id": "e31106c0",
   "metadata": {},
   "outputs": [],
   "source": [
    "import pandas as pd\n",
    "# Load the datasets\n",
    "left= pd.read_csv('left_dataset.csv')\n",
    "right= pd.read_csv('right_dataset.csv')"
   ]
  },
  {
   "cell_type": "code",
   "execution_count": 4,
   "id": "20049d79",
   "metadata": {},
   "outputs": [],
   "source": [
    "# Select the specified columns from both datasets\n",
    "left= left[['business_id', 'name', 'address', 'city','state','zip_code']]\n",
    "right= right[['entity_id', 'name', 'address', 'city', 'state','postal_code']]"
   ]
  },
  {
   "cell_type": "code",
   "execution_count": 5,
   "id": "db60f7d6",
   "metadata": {},
   "outputs": [
    {
     "name": "stderr",
     "output_type": "stream",
     "text": [
      "/var/folders/9w/p0yvhf5x0cz__ntbgxnf6czw0000gn/T/ipykernel_3009/257053242.py:10: FutureWarning: The default value of regex will change from True to False in a future version. In addition, single character regular expressions will *not* be treated as literal strings when regex=True.\n",
      "  left[col] = left[col].str.replace(',', '').str.replace('.', '').str.strip().str.lower()\n",
      "/var/folders/9w/p0yvhf5x0cz__ntbgxnf6czw0000gn/T/ipykernel_3009/257053242.py:11: FutureWarning: The default value of regex will change from True to False in a future version. In addition, single character regular expressions will *not* be treated as literal strings when regex=True.\n",
      "  right[col] = right[col].str.replace(',', '').str.replace('.', '').str.strip().str.lower()\n"
     ]
    }
   ],
   "source": [
    "# Clean the business name\n",
    "left['name'] = left['name'].str.replace(r'\\b(l\\.lc|llc|lcc|inc|corporation|corp|incorporated|co|limited|ltd)\\b', '', regex=True)\n",
    "right['name'] = right['name'].str.replace(r'\\b(l\\.lc|llc|lcc|inc|corporation|corp|incorporated|co|limited|ltd)\\b', '', regex=True)\n",
    "\n",
    "# Define the list of columns to clean\n",
    "cols_to_clean = ['name', 'address', 'city', 'state']\n",
    "\n",
    "# Apply cleaning to each column\n",
    "for col in cols_to_clean:\n",
    "    left[col] = left[col].str.replace(',', '').str.replace('.', '').str.strip().str.lower()\n",
    "    right[col] = right[col].str.replace(',', '').str.replace('.', '').str.strip().str.lower()\n",
    "\n",
    "#rename the column and clean the zipcode\n",
    "left = left.rename(columns={'business_id': 'id_1', 'name':'name_1', 'address':'address_1','zip_code': 'zip_1'})\n",
    "left['zip_1'] = left['zip_1'].astype(str).str[:5]\n",
    "\n",
    "right = right.rename(columns={'entity_id': 'id_2','name':'name_2', 'address':'address_2','postal_code': 'zip_2'})\n",
    "right['zip_2'] = right['zip_2'].astype(str).str[:5]"
   ]
  },
  {
   "cell_type": "code",
   "execution_count": 6,
   "id": "25f11e39",
   "metadata": {},
   "outputs": [
    {
     "name": "stdout",
     "output_type": "stream",
     "text": [
      "Left Dataset:\n",
      "   id_1                            name_1                    address_1  \\\n",
      "0     1              sourini painting inc              12800 44th st n   \n",
      "1     2              wolff dolla bill llc              1905 e 19th ave   \n",
      "2     3  comprehensive surgery center llc  1988 gulf to bay blvd ste 1   \n",
      "3     4          frank & adam apparel llc             13640 wright cir   \n",
      "4     5         moreno plus transport inc    8608 huron court unite 58   \n",
      "\n",
      "         city state  zip_1  \n",
      "0  clearwater    fl  33762  \n",
      "1       tampa    fl  33605  \n",
      "2  clearwater    fl  33765  \n",
      "3       tampa    fl  33626  \n",
      "4       tampa    fl  33614  \n",
      "\n",
      "Right Dataset:\n",
      "   id_2                    name_2                                  address_2  \\\n",
      "0     1             the ups store            87 grasso plaza shopping center   \n",
      "1     2        st honore pastries                                935 race st   \n",
      "2     3  perkiomen valley brewery                              101 walnut st   \n",
      "3     4            sonic drive-in                              615 s main st   \n",
      "4     5           famous footwear  8522 eager road dierbergs brentwood point   \n",
      "\n",
      "           city state  zip_2  \n",
      "0        affton    mo  63123  \n",
      "1  philadelphia    pa  19107  \n",
      "2    green lane    pa  18054  \n",
      "3  ashland city    tn  37015  \n",
      "4     brentwood    mo  63144  \n"
     ]
    }
   ],
   "source": [
    "# Print the first 5 rows of each dataset to verify that the columns were selected\n",
    "print('Left Dataset:')\n",
    "print(left.head())\n",
    "\n",
    "print('\\nRight Dataset:')\n",
    "print(right.head())"
   ]
  },
  {
   "cell_type": "code",
   "execution_count": 7,
   "id": "08a30611",
   "metadata": {},
   "outputs": [],
   "source": [
    "# Export the cleaned left and right dataframes as CSV files\n",
    "left.to_csv('left.csv', index=False)\n",
    "right.to_csv('right.csv', index=False)"
   ]
  },
  {
   "cell_type": "code",
   "execution_count": 8,
   "id": "591d7100",
   "metadata": {},
   "outputs": [],
   "source": [
    "\n",
    "############# Using cleaned dataset to find the match ##############\n"
   ]
  },
  {
   "cell_type": "code",
   "execution_count": 9,
   "id": "4182a03d",
   "metadata": {},
   "outputs": [
    {
     "name": "stdout",
     "output_type": "stream",
     "text": [
      "Requirement already satisfied: rapidfuzz in /opt/anaconda3/lib/python3.9/site-packages (3.0.0)\r\n"
     ]
    }
   ],
   "source": [
    "!pip install rapidfuzz\n",
    "import re\n",
    "from rapidfuzz import fuzz, process"
   ]
  },
  {
   "cell_type": "code",
   "execution_count": 10,
   "id": "3baa5987",
   "metadata": {},
   "outputs": [],
   "source": [
    "#read the dataset\n",
    "left_dataset = pd.read_csv('left.csv')\n",
    "right_dataset = pd.read_csv('right.csv')\n",
    "\n",
    "right_dataset['zip_2'] = right_dataset['zip_2'].astype(str).str[:5]"
   ]
  },
  {
   "cell_type": "code",
   "execution_count": 11,
   "id": "214fd421",
   "metadata": {},
   "outputs": [
    {
     "name": "stdout",
     "output_type": "stream",
     "text": [
      "Number of companies in left dataset: 98509\n",
      "Number of companies in right dataset: 94585\n"
     ]
    }
   ],
   "source": [
    "num_companies_left = left.shape[0]\n",
    "num_companies_right = right.shape[0]\n",
    "\n",
    "print(f\"Number of companies in left dataset: {num_companies_left}\")\n",
    "print(f\"Number of companies in right dataset: {num_companies_right}\")"
   ]
  },
  {
   "cell_type": "code",
   "execution_count": 19,
   "id": "cd1b6053",
   "metadata": {},
   "outputs": [
    {
     "name": "stdout",
     "output_type": "stream",
     "text": [
      "Number of unique states in the left dataset: 5\n",
      "Number of unique states in the right dataset: 5\n"
     ]
    }
   ],
   "source": [
    "print(\"Number of unique states in the left dataset:\", left['state'].nunique())\n",
    "print(\"Number of unique states in the right dataset:\", right['state'].nunique())\n",
    "      "
   ]
  },
  {
   "cell_type": "code",
   "execution_count": 21,
   "id": "4a1e06c9",
   "metadata": {},
   "outputs": [
    {
     "name": "stdout",
     "output_type": "stream",
     "text": [
      "  state  count\n",
      "0    fl  28373\n",
      "1    in  10575\n",
      "2    mo  15613\n",
      "3    pa  32335\n",
      "4    tn  11613\n",
      "  state  count\n",
      "0    fl  26330\n",
      "1    in  11247\n",
      "2    mo  10913\n",
      "3    pa  34039\n",
      "4    tn  12056\n"
     ]
    }
   ],
   "source": [
    "left_grouped = left.groupby('state')['id_1'].count().reset_index(name='count')\n",
    "print(left_grouped)\n",
    "right_grouped = right.groupby('state')['id_2'].count().reset_index(name='count')\n",
    "print(right_grouped)"
   ]
  },
  {
   "cell_type": "code",
   "execution_count": 26,
   "id": "9a57e025",
   "metadata": {},
   "outputs": [
    {
     "data": {
      "image/png": "[encoded data removed]",
      "text/plain": [
       "<Figure size 1000x500 with 1 Axes>"
      ]
     },
     "metadata": {},
     "output_type": "display_data"
    }
   ],
   "source": [
    "#Visualize the dataset \n",
    "import matplotlib.pyplot as plt\n",
    "import numpy as np\n",
    "\n",
    "# group data by state and count number of companies in each state for both datasets\n",
    "left_grouped = left.groupby('state')['id_1'].count().reset_index(name='count')\n",
    "right_grouped = right.groupby('state')['id_2'].count().reset_index(name='count')\n",
    "\n",
    "# create a list of all states\n",
    "states = sorted(list(set(left_grouped['state']) | set(right_grouped['state'])))\n",
    "\n",
    "# create arrays of counts for left and right datasets\n",
    "left_counts = np.zeros(len(states))\n",
    "right_counts = np.zeros(len(states))\n",
    "\n",
    "for i, state in enumerate(states):\n",
    "    if state in left_grouped['state'].values:\n",
    "        left_counts[i] = left_grouped[left_grouped['state']==state]['count']\n",
    "    if state in right_grouped['state'].values:\n",
    "        right_counts[i] = right_grouped[right_grouped['state']==state]['count']\n",
    "\n",
    "# plot the bar chart\n",
    "fig, ax = plt.subplots(figsize=(10,5))\n",
    "ind = np.arange(len(states))  # the x locations for the states\n",
    "width = 0.35  # the width of the bars\n",
    "\n",
    "rects1 = ax.bar(ind - width/2, left_counts, width, label='Left Dataset', color='blue')\n",
    "rects2 = ax.bar(ind + width/2, right_counts, width, label='Right Dataset', color='red')\n",
    "\n",
    "# add some text for labels, title and axes ticks\n",
    "ax.set_ylabel('Number of Companies')\n",
    "ax.set_title('Number of Companies by State')\n",
    "ax.set_xticks(ind)\n",
    "ax.set_xticklabels(states)\n",
    "ax.legend()\n",
    "\n",
    "# rotate the x-axis labels for better readability\n",
    "plt.xticks(rotation=90)\n",
    "\n",
    "plt.show()\n"
   ]
  },
  {
   "cell_type": "code",
   "execution_count": 12,
   "id": "b0d5950d",
   "metadata": {},
   "outputs": [
    {
     "name": "stdout",
     "output_type": "stream",
     "text": [
      "Left dataset:\n",
      "id_1         0\n",
      "name_1       0\n",
      "address_1    0\n",
      "city         0\n",
      "state        0\n",
      "zip_1        0\n",
      "dtype: int64\n",
      "\n",
      "Right dataset:\n",
      "id_2            0\n",
      "name_2          0\n",
      "address_2    2799\n",
      "city            0\n",
      "state           0\n",
      "zip_2           0\n",
      "dtype: int64\n"
     ]
    }
   ],
   "source": [
    "# Count NaN values in left dataset\n",
    "print(\"Left dataset:\")\n",
    "print(left_dataset.isna().sum())\n",
    "\n",
    "# Count NaN values in right dataset\n",
    "print(\"\\nRight dataset:\")\n",
    "print(right_dataset.isna().sum())"
   ]
  },
  {
   "cell_type": "code",
   "execution_count": 13,
   "id": "17a015e9",
   "metadata": {},
   "outputs": [],
   "source": [
    "# Since the right dataset is smaller and has more missing value\n",
    "# We match the left dataset with the right dataset for faster process"
   ]
  },
  {
   "cell_type": "code",
   "execution_count": 14,
   "id": "0f46826b",
   "metadata": {
    "scrolled": true
   },
   "outputs": [],
   "source": [
    "def find_matches_extract_one(row, right_dataset, name_threshold=80, zip_threshold=80, address_threshold=80):\n",
    "    best_name_match = process.extractOne(row['name_1'], right_dataset['name_2'].tolist(), scorer=fuzz.token_sort_ratio)\n",
    "    best_zip_match = process.extractOne(str(row['zip_1']), right_dataset['zip_2'].astype(str).tolist(), scorer=fuzz.token_sort_ratio)\n",
    "    best_address_match = process.extractOne(row['address_1'], right_dataset['address_2'].tolist(), scorer=fuzz.token_sort_ratio)\n",
    "    \n",
    "    if best_name_match[1] >= name_threshold and best_zip_match[1] >= zip_threshold and best_address_match[1] >= address_threshold:\n",
    "        matched_rows = right_dataset[(right_dataset['name_2'] == best_name_match[0]) & (right_dataset['zip_2'] == best_zip_match[0]) & (right_dataset['address_2'] == best_address_match[0])]\n",
    "        if len(matched_rows) > 0:\n",
    "            index_right = matched_rows.index[0]\n",
    "            row_right = right_dataset.loc[index_right]\n",
    "            return (row['id_1'], row_right['id_2'], (best_name_match[1] + best_zip_match[1] + best_address_match[1]) / 3)\n",
    "    return None\n"
   ]
  },
  {
   "cell_type": "code",
   "execution_count": 27,
   "id": "2a5d35f3",
   "metadata": {},
   "outputs": [
    {
     "name": "stdout",
     "output_type": "stream",
     "text": [
      "Number of matching results: 5065\n"
     ]
    }
   ],
   "source": [
    "# goupe the data by state can speed up the whole matcing process\n",
    "#takes for 30 min for this process\n",
    "\n",
    "results = []\n",
    "\n",
    "for state, group in left_dataset.groupby('state'):\n",
    "    # Filter right_dataset by state\n",
    "    right_group = right_dataset[right_dataset['state'] == state]\n",
    "    # Perform matching within the group\n",
    "    for _, row in group.iterrows():\n",
    "        match = find_matches_extract_one(row, right_group)\n",
    "        if match:\n",
    "            results.append(match)\n",
    "\n",
    "matches_df = pd.DataFrame(results, columns=['id_1', 'id_2','confidence_score'])\n",
    "matches_df['confidence_score'] = matches_df['confidence_score'] / 100\n",
    "high_confidence_matches = matches_df[matches_df['confidence_score'] >= 0.8]\n",
    "\n",
    "print(f\"Number of matching results: {len(results)}\")"
   ]
  },
  {
   "cell_type": "code",
   "execution_count": 31,
   "id": "b8f297cb",
   "metadata": {},
   "outputs": [
    {
     "name": "stdout",
     "output_type": "stream",
     "text": [
      "       id_1   id_2  confidence_score\n",
      "3677  74808  92815               1.0\n",
      "424    6547  53802               1.0\n",
      "4119  81987   5305               1.0\n",
      "2582  56421  83795               1.0\n",
      "4783  91542   8009               1.0\n",
      "2578  56375  67914               1.0\n",
      "4127  82157  60077               1.0\n",
      "4128  82160  60077               1.0\n",
      "4129  82175  84174               1.0\n",
      "771   13847  93646               1.0\n"
     ]
    }
   ],
   "source": [
    "print(high_confidence_matches.sort_values(ascending=False, by='confidence_score').head(10))\n"
   ]
  },
  {
   "cell_type": "code",
   "execution_count": 32,
   "id": "5fccd53c",
   "metadata": {},
   "outputs": [],
   "source": [
    "# Merge with original dataset and show matched data with confidence score\n",
    "matched_data = pd.merge(left, matches_df, on='id_1', how='left')\n",
    "matched_data = pd.merge(matched_data, right, left_on='id_2', right_on='id_2', suffixes=('_1', '_2'))"
   ]
  },
  {
   "cell_type": "code",
   "execution_count": 33,
   "id": "59743798",
   "metadata": {},
   "outputs": [
    {
     "name": "stdout",
     "output_type": "stream",
     "text": [
      "       id_1     id_2  confidence_score                                name_1  \\\n",
      "4050  80504  57690.0               1.0                   xi'an sizzling woks   \n",
      "2423  53239  77112.0               1.0                   poise hair boutique   \n",
      "3911  78240  54044.0               1.0                        trattoria moma   \n",
      "3073  64240  50358.0               1.0                 volpe real estate inc   \n",
      "3890  79022  39620.0               1.0                 precision kettlebells   \n",
      "2490  55510  80398.0               1.0  mestichelli barnes dental associates   \n",
      "3889  77852  39620.0               1.0                 precision kettlebells   \n",
      "3884  77807  56066.0               1.0                  momma mia's pizzeria   \n",
      "3875  77670   9558.0               1.0                   cna computer repair   \n",
      "1061  23292  74450.0               1.0              la giraldilla hanley inc   \n",
      "\n",
      "                                    name_2            address_1  \\\n",
      "4050                   xi'an sizzling woks          902 arch st   \n",
      "2423                   poise hair boutique     9206 lackland rd   \n",
      "3911                        trattoria moma  7131 germantown ave   \n",
      "3073                 volpe real estate inc        701 s 20th st   \n",
      "3890                 precision kettlebells    309 lancaster ave   \n",
      "2490  mestichelli barnes dental associates      1903 s broad st   \n",
      "3889                 precision kettlebells    309 lancaster ave   \n",
      "3884                  momma mia's pizzeria    15002 endicott st   \n",
      "3875                   cna computer repair         921 darby rd   \n",
      "1061              la giraldilla hanley inc       8218 hanley rd   \n",
      "\n",
      "                address_2  \n",
      "4050          902 arch st  \n",
      "2423     9206 lackland rd  \n",
      "3911  7131 germantown ave  \n",
      "3073        701 s 20th st  \n",
      "3890    309 lancaster ave  \n",
      "2490      1903 s broad st  \n",
      "3889    309 lancaster ave  \n",
      "3884    15002 endicott st  \n",
      "3875         921 darby rd  \n",
      "1061       8218 hanley rd  \n",
      "Number of matched data: 5065\n"
     ]
    }
   ],
   "source": [
    "# Print top 10 matched data with confidence score\n",
    "top_matched_data = matched_data.sort_values(by='confidence_score', ascending=False).head(10)\n",
    "print(top_matched_data[['id_1', 'id_2', 'confidence_score','name_1', 'name_2', 'address_1', 'address_2']])\n",
    "print(f\"Number of matched data: {len(matched_data)}\")"
   ]
  },
  {
   "cell_type": "code",
   "execution_count": 34,
   "id": "6e3263c0",
   "metadata": {},
   "outputs": [],
   "source": [
    "#export as csv file\n",
    "matched_data[['id_1', 'id_2', 'confidence_score', 'name_1', 'name_2', 'address_1', 'address_2']].to_csv('matched_data.csv', index=False)"
   ]
  }
 ],
 "metadata": {
  "kernelspec": {
   "display_name": "Python 3 (ipykernel)",
   "language": "python",
   "name": "python3"
  },
  "language_info": {
   "codemirror_mode": {
    "name": "ipython",
    "version": 3
   },
   "file_extension": ".py",
   "mimetype": "text/x-python",
   "name": "python",
   "nbconvert_exporter": "python",
   "pygments_lexer": "ipython3",
   "version": "3.9.13"
  }
 },
 "nbformat": 4,
 "nbformat_minor": 5
}
